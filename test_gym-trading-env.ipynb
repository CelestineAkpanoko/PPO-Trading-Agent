{
 "cells": [
  {
   "cell_type": "code",
   "execution_count": null,
   "id": "528e2186",
   "metadata": {},
   "outputs": [],
   "source": [
    "!pip install gymnasium gym_trading_env tqdm torch"
   ]
  },
  {
   "cell_type": "code",
   "execution_count": null,
   "id": "db2a9022",
   "metadata": {},
   "outputs": [],
   "source": [
    "import gymnasium as gym\n",
    "import gym_trading_env\n",
    "from tqdm import tqdm\n",
    "import pandas as pd\n",
    "import numpy as np\n",
    "from ppo_trading_agent import PPO\n",
    "\n",
    "\n",
    "def test_model(env, model, n_episodes=10, render_dir=\"render_logs\"):\n",
    "    \"\"\"\n",
    "    Test the model on the environment.\n",
    "    \"\"\"\n",
    "    for episode in tqdm(range(n_episodes)):\n",
    "        done, truncated = False, False\n",
    "        observation, info = env.reset()\n",
    "        while not done and not truncated:\n",
    "            action, log_prob, value = model.choose_action(observation)\n",
    "            observation_, reward, done, truncated, info = env.step(action)\n",
    "\n",
    "        # Render and save logs at the end of the episode\n",
    "        env.unwrapped.save_for_render(dir=render_dir)\n",
    "\n",
    "\n",
    "# Load and preprocess the dataset\n",
    "df = pd.read_pickle(\"./data/binance-BTCUSDT-1h.pkl\")\n",
    "df[\"feature_close\"] = df[\"close\"].pct_change()\n",
    "df[\"feature_open\"] = df[\"open\"] / df[\"close\"]\n",
    "df[\"feature_high\"] = df[\"high\"] / df[\"close\"]\n",
    "df[\"feature_low\"] = df[\"low\"] / df[\"close\"]\n",
    "df[\"feature_volume\"] = df[\"volume\"] / df[\"volume\"].rolling(7 * 24).max()\n",
    "df.dropna(inplace=True)\n",
    "# Environment setup\n",
    "env = gym.make(\"TradingEnv\", name=\"BTCUSDT\", df=df, positions=[-1, 0, 1], trading_fees=0.01/100, borrow_interest_rate=0.0003/100)\n",
    "env.unwrapped.add_metric('Position Changes', lambda history: np.sum(np.diff(history['position']) != 0))\n",
    "env.unwrapped.add_metric('Episode Length', lambda history: len(history['position']))\n",
    "\n",
    "# Parameters for PPO (ensure these match your training setup)\n",
    "n_actions = env.action_space.n\n",
    "input_dims = env.observation_space.shape[0]\n",
    "chkpt_dir = './models/'  # Path to your model weights\n",
    "alpha = 0\n",
    "gamma = 0\n",
    "policy_clip = 0\n",
    "n_epochs = 0\n",
    "gae_lambda = 0\n",
    "batch_size = 0\n",
    "# Initialize PPO model\n",
    "model = PPO(n_actions, input_dims, alpha, gamma, policy_clip, n_epochs, gae_lambda, batch_size, chkpt_dir)\n",
    "model.load_models()  # Load the trained weights\n",
    "\n",
    "\n",
    "\n",
    "# Test the model\n",
    "test_model(env, model, n_episodes=10, render_dir=\"render_logs\")\n",
    "\n",
    "# Close the environment if necessary\n",
    "env.close()\n"
   ]
  },
  {
   "cell_type": "code",
   "execution_count": null,
   "id": "17e21eea",
   "metadata": {},
   "outputs": [],
   "source": []
  }
 ],
 "metadata": {
  "kernelspec": {
   "display_name": "Python 3 (ipykernel)",
   "language": "python",
   "name": "python3"
  },
  "language_info": {
   "codemirror_mode": {
    "name": "ipython",
    "version": 3
   },
   "file_extension": ".py",
   "mimetype": "text/x-python",
   "name": "python",
   "nbconvert_exporter": "python",
   "pygments_lexer": "ipython3",
   "version": "3.10.13"
  }
 },
 "nbformat": 4,
 "nbformat_minor": 5
}
